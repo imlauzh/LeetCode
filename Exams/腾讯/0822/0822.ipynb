{
 "cells": [
  {
   "cell_type": "markdown",
   "source": [
    "## 题目一 开锁时间期望\n",
    "### 题目描述\n",
    "有n 把钥匙，m 个锁，每把锁只能由一把特定的钥匙打开，其他钥匙都无法打开。一把钥匙可能可以打开多把锁，钥匙也可以重复使用。  \n",
    "对于任意一把锁来说，打开它的钥匙是哪一把是等概率的。但你无法事先知道是哪一把钥匙，只能进行尝试。  \n",
    "已知每次尝试用第i把钥匙打开第j把锁会消耗的时间 $a_{ij}$ 秒。  \n",
    "问最优策略下打开所有锁的总期望时间是多少秒。\n",
    "\n",
    "### 输入描述\n",
    "第一行两个以空格分隔的正整数n,m。 \n",
    "接下来n行每行m个空格分隔的正整数$a_{ij}$。  \n",
    "1<=n, m, $a_{ij}$ <=500\n",
    "\n",
    "### 输出描述\n",
    "输出一个小数代表答案，你的答案会被认为是正确的当且仅当你的答案与正确答案的绝对误差或相对误差不超过10-6。"
   ],
   "metadata": {}
  },
  {
   "cell_type": "code",
   "execution_count": null,
   "source": [
    "import sys\r\n",
    "import numpy as np\r\n",
    "\r\n",
    "n, m = sys.stdin.readline().strip().split(\" \")\r\n",
    "n, m = int(n), int(m)\r\n",
    "\r\n",
    "time = []\r\n",
    "for _ in range(n):\r\n",
    "    line = sys.stdin.readline().strip().split(\" \")\r\n",
    "    line = list(map(int, line))\r\n",
    "time = np.transpose(time).tolist()\r\n",
    "res = 0\r\n",
    "for i in range(m):\r\n",
    "    time[i].sort()\r\n",
    "    sm = 0\r\n",
    "    for j in range(n):\r\n",
    "        sm += time[i][j]\r\n",
    "        res += 1/n * sm\r\n",
    "print(res)"
   ],
   "outputs": [],
   "metadata": {}
  },
  {
   "cell_type": "markdown",
   "source": [
    "## 题目二 勇闯币圈\n",
    "### 题目描述\n",
    "最近以比特币为代表的数字货币市场非常动荡，聪明的小明打算用马尔科夫链来建模股市。如图所示，该模型有三种状态：“行情稳定”，“行情大跌”以及“行情大涨”。每一个状态都以一定的概率转化到下一个状态。比如，“行情稳定”以0.4的概率转化到“行情大跌”的状态。\n",
    "<img src=\"img/0822tx1.png\" width=\"50%\">\n",
    "不妨设“行情稳定”，“行情大跌”以及“行情大涨”分别为状态0，状态1和状态2。我们可以定义概率转移矩阵P，其中P(i,j)的数值表示的是状态j转移到状态i的概率。如图所示的概率转移矩阵为：\n",
    "<img src=\"img/0822tx2.png\" width=\"20%\">\n",
    "有了概率转移矩阵P，我们只要知道一个初始状态 $\\pi$，如 $\\pi=\\{0.2,0.4,0.4\\}$，我们就容易可以知道第 t 步三种状态的概率了。由此可以知道行情什么时候大涨大跌，从而发家致富，赢取白富美，走向人生巅峰。比如我们想知道第1步之后“行情大跌”的概率，那么由全概率公式和马尔科夫链的性质(第t步的概率只和第t-1步有关)：\n",
    "<img src=\"img/0822tx3.png\" width=\"50%\">\n",
    "可以通过该模型，计算出第t步的“行情大涨”的概率吗？如果这个概率大于0.5那么输出1，否则输出0。\n",
    "### 输入描述\n",
    "第1行输入为测试数据组数T(1<=T<1000)，接下来T组每5行的数据格式为：   \n",
    "T组第1行是步长1<=t<=10，  \n",
    "T组第2行是一个3维的初始状态，  \n",
    "T组第3行到第5行是3*3的概率转移矩阵P，每行有三个浮点数。 \n",
    "\n",
    "### 输出描述\n",
    "如果第t步的“行情大涨”概率大于0.5那么输出1，否则输出0。"
   ],
   "metadata": {}
  },
  {
   "cell_type": "code",
   "execution_count": null,
   "source": [
    "import sys\r\n",
    "T = int(sys.stdin.readline().strip())\r\n",
    "for _ in range(T):\r\n",
    "    t = int(sys.stdin.readline().strip())\r\n",
    "    p = []\r\n",
    "    sta = sys.stdin.readline().strip().split(\" \")\r\n",
    "    sta = list(map(float, sta))\r\n",
    "    for _ in range(3):\r\n",
    "        line = sys.stdin.readline().strip().split(\" \")\r\n",
    "        line = list(map(float, line))\r\n",
    "        p.append(line)\r\n",
    "    for _ in range(t):\r\n",
    "        p0 = sta[0] * p[0][0] + sta[1] * p[0][1] + sta[2] * p[0][2]\r\n",
    "        p1 = sta[0] * p[1][0] + sta[1] * p[1][1] + sta[2] * p[1][2]\r\n",
    "        p2 = sta[0] * p[2][0] + sta[1] * p[2][1] + sta[2] * p[2][2]\r\n",
    "        sta[0], sta[1], sta[2] = p0, p1, p2\r\n",
    "    print(1) if sta[2]>0.5 else print(0)"
   ],
   "outputs": [],
   "metadata": {}
  },
  {
   "cell_type": "markdown",
   "source": [
    "## 题目三 迎宾车队\n",
    "### 题目描述\n",
    "今天正在进行赛车车队选拔，每一辆赛车都有一个不可以改变的速度。现在需要选取速度差距在10以内的车队（车队中速度的最大值减去最小值不大于10），用于迎宾。车队的选拔按照的是人越多越好的原则，给出n辆车的速度，你能选出满足条件的最多车辆的车队吗。\n",
    "\n",
    "### 输入描述\n",
    "第一行一个数字n(1<=n<=100000)。\n",
    "接下来一行n个整数，speed[i] 表示第i辆车的速度为speed[i](1<=speed[i]<=109)。\n",
    "\n",
    "### 输出描述\n",
    "输出一行，最大车辆数目。"
   ],
   "metadata": {}
  },
  {
   "cell_type": "code",
   "execution_count": null,
   "source": [
    "import sys\r\n",
    "\r\n",
    "n = int(sys.stdin.readline().strip())\r\n",
    "speed = sys.stdin.readline().strip().split(\" \")\r\n",
    "speed = list(map(int, speed))\r\n",
    "speed.sort()\r\n",
    "\r\n",
    "res = 1\r\n",
    "idx = 0\r\n",
    "while idx < n - 1:\r\n",
    "    l, r = idx+1, n-1\r\n",
    "    while l <= r:\r\n",
    "        mid = (l+r) >> 1\r\n",
    "        if speed[mid] <= speed[idx]+10: l = mid + 1\r\n",
    "        else: r = mid - 1\r\n",
    "    res = max(res, r-idx+1)\r\n",
    "    idx += 1\r\n",
    "print(res)"
   ],
   "outputs": [],
   "metadata": {}
  },
  {
   "cell_type": "markdown",
   "source": [
    "## 题目四 水站的水流量\n",
    "### 题目描述\n",
    "有一个水站网络共有n层，第i层有i个水站节点，如图所示连接，水流单向流动。\n",
    "<img src=\"img/0822tx4.png\" width=\"40%\">\n",
    "每个水站在达到MAX个水流量时，称该水站满负荷工作，后续流进该水站的水流量，将会分为两等份流向它后面所连接的两个水站。若每秒都有流入第一个水站MAX个水流量，请问第T秒有多少个水站是满负荷工作的？\n",
    "### 输入描述\n",
    "一行两个正整数，n和t。\n",
    "\n",
    "### 输出描述\n",
    "一个正整数，第t秒满负荷工作的水站数量。"
   ],
   "metadata": {}
  },
  {
   "cell_type": "code",
   "execution_count": null,
   "source": [
    "import sys\r\n",
    "\r\n",
    "n, t = sys.stdin.readline().strip().split(\" \")\r\n",
    "n, t = int(n), int(t)\r\n",
    "dp = [[0 for _ in range(n)] for _ in range(n)]\r\n",
    "\r\n",
    "for _ in range(t):\r\n",
    "    dp[0][0] += 1.0\r\n",
    "    for i in range(n-1):\r\n",
    "        for j in range(i+1):\r\n",
    "            if dp[i][j] > 1:\r\n",
    "                cnt = dp[i][j] - 1\r\n",
    "                dp[i][j] = 1\r\n",
    "                dp[i+1][j] += cnt*0.5\r\n",
    "                dp[i+1][j+1] += cnt*0.5\r\n",
    "    for j in range(n):\r\n",
    "        dp[-1][j] = min(1.0, dp[-1][j])\r\n",
    "res = 0\r\n",
    "for i in range(n):\r\n",
    "    for j in range(n):\r\n",
    "        if dp[i][j] == 1.0:\r\n",
    "            res += 1\r\n",
    "print(res)"
   ],
   "outputs": [],
   "metadata": {}
  },
  {
   "cell_type": "markdown",
   "source": [
    "## 题目五 定点轰炸\n",
    "### 题目描述\n",
    "牛牛是军团的指挥官，这一天，高层来到团中检查，牛牛为了演示军团的实战能力，决定表演定点轰炸在事先既定的 n*n大小的矩形中，随机勾勒上几笔，轰炸位置即为被这几笔所包围的区域。  \n",
    "\n",
    "你作为自动化定点轰炸的创始人，需要为此书写一个程序，来完成这个任务。首先，你将整个 n*n的矩形看成一个全 0矩形，勾勒的笔画所经过的位置用 1表示，现在，你需要将被轰炸区域改成数字 2，用于标记，指引轰炸方位。  \n",
    "\n",
    "一个被 1包围的区域定义为：区域内部的点不能通过上下左右的移动，在不经过 1的前提下到达区域外的 0点或者矩形外部。\n",
    "### 输入描述\n",
    "第一行输入一个正整数n(1<=n<1000) ，代表矩形边长。\n",
    "\n",
    "接下去 n 行，每行 n个整数，整数仅有可能为 0或 1，含义如题所述。\n",
    "### 输出描述\n",
    "输出一个 n*n的矩形，一共 n行，每行 n 个整数，该矩形代表标记完轰炸区域后的结果呈现。\n",
    "\n",
    "由于勾勒的随机性，有可能不能形成封闭区域，此时，只需要输出原矩形即可。"
   ],
   "metadata": {}
  },
  {
   "cell_type": "code",
   "execution_count": null,
   "source": [
    "import sys\r\n",
    "n = int(sys.stdin.readline().strip())\r\n",
    "\r\n",
    "matrix = []\r\n",
    "for _ in range(n):\r\n",
    "    line = sys.stdin.readline().strip().split(\" \")\r\n",
    "    matrix.append(line)\r\n",
    "\r\n",
    "def dfs(matrix, i, j):\r\n",
    "    if 0 <= i < n and 0 <= j < n and matrix[i][j] == \"0\":\r\n",
    "        matrix[i][j] = \"-1\"\r\n",
    "        dfs(matrix, i+1, j)\r\n",
    "        dfs(matrix, i, j+1)\r\n",
    "        dfs(matrix, i-1, j)\r\n",
    "        dfs(matrix, i, j-1)\r\n",
    "for i in range(0, n):\r\n",
    "    dfs(matrix, i, 0)\r\n",
    "    dfs(matrix, i, n-1)\r\n",
    "    dfs(matrix, 0, i)\r\n",
    "    dfs(matrix, n-1, i)\r\n",
    "for i in range(n):\r\n",
    "    for j in range(n):\r\n",
    "        if matrix[i][j] == \"-1\":\r\n",
    "            matrix[i][j] = \"0\"\r\n",
    "        elif matrix[i][j] == \"0\":\r\n",
    "            matrix[i][j] = \"2\"\r\n",
    "for i in range(n):\r\n",
    "    line = \" \".join(matrix[i])\r\n",
    "    print(line)"
   ],
   "outputs": [],
   "metadata": {}
  }
 ],
 "metadata": {
  "kernelspec": {
   "display_name": "Python 3",
   "language": "python",
   "name": "python3"
  },
  "language_info": {
   "codemirror_mode": {
    "name": "ipython",
    "version": 3
   },
   "file_extension": ".py",
   "mimetype": "text/x-python",
   "name": "python",
   "nbconvert_exporter": "python",
   "pygments_lexer": "ipython3",
   "version": "3.6.13"
  }
 },
 "nbformat": 4,
 "nbformat_minor": 5
}